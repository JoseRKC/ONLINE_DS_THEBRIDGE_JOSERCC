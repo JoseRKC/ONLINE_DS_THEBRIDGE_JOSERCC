{
 "cells": [
  {
   "cell_type": "code",
   "execution_count": 21,
   "id": "76b8f121-36bb-4697-a8b0-1deef2b09756",
   "metadata": {},
   "outputs": [],
   "source": [
    "class Usuario:\n",
    "\n",
    "    def __init__(self, nombre, saldo, checking_account=False):\n",
    "        self.nombre = nombre\n",
    "        self.saldo = saldo\n",
    "        self.checking_account = checking_account\n",
    "    \n",
    "    def withdraw(self,retirada):\n",
    "        try:\n",
    "            self.saldo -= retirada\n",
    "            print(self.nombre,\"tiene\",self.saldo,\".\")\n",
    "        except ValueError:\n",
    "            print(\"No tiene suficiente saldo en la cuenta\")\n",
    "    \n",
    "    def check(self, otro_usuario,cantidad):\n",
    "        if not otro_usuario.checking_account:\n",
    "            raise ValueError(f\"{otro_usuario.nombre} no tiene una cuenta.\")\n",
    "        \n",
    "        # Verificar si el usuario tiene suficiente saldo\n",
    "        if cantidad > otro_usuario.saldo:\n",
    "            raise ValueError(\"Fondos insuficientes para realizar la transferencia.\")\n",
    "        \n",
    "        # Realiza la transferencia\n",
    "        otro_usuario.saldo > cantidad\n",
    "        self.saldo += cantidad\n",
    "        otro_usuario.saldo -= cantidad\n",
    "        \n",
    "        return (self.nombre,\"tiene \",self.saldo,\"y\", otro_usuario.nombre,\"tiene\", otro_usuario.saldo)\n",
    "    \n",
    "    def add_cash(self,agregar):\n",
    "        # Agregamos la nueva cantidad al saldo actual\n",
    "        nuevo_saldo= agregar + self.saldo\n",
    "        print(self.nombre, \"tiene\", nuevo_saldo)"
   ]
  },
  {
   "cell_type": "code",
   "execution_count": 45,
   "id": "0b62676c-d9be-431c-b525-ba948646f8e9",
   "metadata": {},
   "outputs": [
    {
     "name": "stdout",
     "output_type": "stream",
     "text": [
      "True\n",
      "False\n"
     ]
    }
   ],
   "source": [
    "Jeff = User('Jeff', 70, True)\n",
    "Joe = User('Joe', 70, False)\n",
    "print(Jeff.checking_account)\n",
    "print(Joe.checking_account)"
   ]
  },
  {
   "cell_type": "code",
   "execution_count": 25,
   "id": "09f081aa-0cd6-4aee-a66c-1433b925e659",
   "metadata": {},
   "outputs": [
    {
     "data": {
      "text/plain": [
       "'Nombre: Jeff, Saldo: 68.'"
      ]
     },
     "execution_count": 25,
     "metadata": {},
     "output_type": "execute_result"
    }
   ],
   "source": [
    "Jeff.withdraw(2) # Devuelve 'Jeff tiene 68.'"
   ]
  },
  {
   "cell_type": "code",
   "execution_count": 27,
   "id": "721a0393-a258-49ed-baac-3f9fb0458a72",
   "metadata": {},
   "outputs": [
    {
     "data": {
      "text/plain": [
       "'Joe tiene 120 y Jeff tiene 18.'"
      ]
     },
     "execution_count": 27,
     "metadata": {},
     "output_type": "execute_result"
    }
   ],
   "source": [
    "Joe.check(Jeff, 50) # Devuelve 'Joe tiene 120 y Jeff tiene 18.'"
   ]
  },
  {
   "cell_type": "code",
   "execution_count": 29,
   "id": "75e38361-d8f1-4d23-8359-38dc515e6e01",
   "metadata": {},
   "outputs": [
    {
     "ename": "ValueError",
     "evalue": "El usuario emisor no tiene la cuenta habilitada",
     "output_type": "error",
     "traceback": [
      "\u001b[1;31m---------------------------------------------------------------------------\u001b[0m",
      "\u001b[1;31mValueError\u001b[0m                                Traceback (most recent call last)",
      "Cell \u001b[1;32mIn[29], line 1\u001b[0m\n\u001b[1;32m----> 1\u001b[0m Jeff\u001b[38;5;241m.\u001b[39mcheck(Joe, \u001b[38;5;241m80\u001b[39m)\n",
      "Cell \u001b[1;32mIn[1], line 26\u001b[0m, in \u001b[0;36mUser.check\u001b[1;34m(self, otro_usuario, dinero)\u001b[0m\n\u001b[0;32m     24\u001b[0m \u001b[38;5;28;01mdef\u001b[39;00m \u001b[38;5;21mcheck\u001b[39m(\u001b[38;5;28mself\u001b[39m, otro_usuario, dinero):\n\u001b[0;32m     25\u001b[0m     \u001b[38;5;28;01mif\u001b[39;00m otro_usuario\u001b[38;5;241m.\u001b[39mchecking_account \u001b[38;5;241m==\u001b[39m \u001b[38;5;28;01mFalse\u001b[39;00m:\n\u001b[1;32m---> 26\u001b[0m         \u001b[38;5;28;01mraise\u001b[39;00m \u001b[38;5;167;01mValueError\u001b[39;00m(\u001b[38;5;124m\"\u001b[39m\u001b[38;5;124mEl usuario emisor no tiene la cuenta habilitada\u001b[39m\u001b[38;5;124m\"\u001b[39m)\n\u001b[0;32m     27\u001b[0m     \u001b[38;5;28;01mif\u001b[39;00m dinero \u001b[38;5;241m>\u001b[39m otro_usuario\u001b[38;5;241m.\u001b[39msaldo:\n\u001b[0;32m     28\u001b[0m         \u001b[38;5;28;01mraise\u001b[39;00m \u001b[38;5;167;01mValueError\u001b[39;00m(\u001b[38;5;124m\"\u001b[39m\u001b[38;5;124mFondos insuficientes para mandar dinero\u001b[39m\u001b[38;5;124m\"\u001b[39m)    \u001b[38;5;66;03m# despues de haber hecho un par de restricciones, ahora si pasamos a agregar dinero\u001b[39;00m\n",
      "\u001b[1;31mValueError\u001b[0m: El usuario emisor no tiene la cuenta habilitada"
     ]
    }
   ],
   "source": [
    "Jeff.check(Joe, 80) # Lanza un ValueError"
   ]
  },
  {
   "cell_type": "code",
   "execution_count": 31,
   "id": "70676d8b-3cf6-4de6-837d-1cc82f59bc8d",
   "metadata": {},
   "outputs": [],
   "source": [
    "Joe.checking_account = True # Habilita la cuenta corriente para Joe\n"
   ]
  },
  {
   "cell_type": "code",
   "execution_count": 33,
   "id": "6fb955d0-88e5-4188-a1d6-4b5287dc8a72",
   "metadata": {},
   "outputs": [
    {
     "data": {
      "text/plain": [
       "'Jeff tiene 98 y Joe tiene 40.'"
      ]
     },
     "execution_count": 33,
     "metadata": {},
     "output_type": "execute_result"
    }
   ],
   "source": [
    "\n",
    "Jeff.check(Joe, 80) # Devuelve 'Jeff tiene 98 y Joe tiene 40'\n",
    "\n"
   ]
  },
  {
   "cell_type": "code",
   "execution_count": 35,
   "id": "420eeea8-3828-4fff-9733-41b1e5ad704a",
   "metadata": {},
   "outputs": [
    {
     "ename": "ValueError",
     "evalue": "Fondos insuficientes para mandar dinero",
     "output_type": "error",
     "traceback": [
      "\u001b[1;31m---------------------------------------------------------------------------\u001b[0m",
      "\u001b[1;31mValueError\u001b[0m                                Traceback (most recent call last)",
      "Cell \u001b[1;32mIn[35], line 1\u001b[0m\n\u001b[1;32m----> 1\u001b[0m Joe\u001b[38;5;241m.\u001b[39mcheck(Jeff, \u001b[38;5;241m100\u001b[39m)\n",
      "Cell \u001b[1;32mIn[1], line 28\u001b[0m, in \u001b[0;36mUser.check\u001b[1;34m(self, otro_usuario, dinero)\u001b[0m\n\u001b[0;32m     26\u001b[0m     \u001b[38;5;28;01mraise\u001b[39;00m \u001b[38;5;167;01mValueError\u001b[39;00m(\u001b[38;5;124m\"\u001b[39m\u001b[38;5;124mEl usuario emisor no tiene la cuenta habilitada\u001b[39m\u001b[38;5;124m\"\u001b[39m)\n\u001b[0;32m     27\u001b[0m \u001b[38;5;28;01mif\u001b[39;00m dinero \u001b[38;5;241m>\u001b[39m otro_usuario\u001b[38;5;241m.\u001b[39msaldo:\n\u001b[1;32m---> 28\u001b[0m     \u001b[38;5;28;01mraise\u001b[39;00m \u001b[38;5;167;01mValueError\u001b[39;00m(\u001b[38;5;124m\"\u001b[39m\u001b[38;5;124mFondos insuficientes para mandar dinero\u001b[39m\u001b[38;5;124m\"\u001b[39m)    \u001b[38;5;66;03m# despues de haber hecho un par de restricciones, ahora si pasamos a agregar dinero\u001b[39;00m\n\u001b[0;32m     29\u001b[0m otro_usuario\u001b[38;5;241m.\u001b[39msaldo \u001b[38;5;241m-\u001b[39m\u001b[38;5;241m=\u001b[39m dinero\n\u001b[0;32m     30\u001b[0m \u001b[38;5;28mself\u001b[39m\u001b[38;5;241m.\u001b[39msaldo \u001b[38;5;241m+\u001b[39m\u001b[38;5;241m=\u001b[39m dinero\n",
      "\u001b[1;31mValueError\u001b[0m: Fondos insuficientes para mandar dinero"
     ]
    }
   ],
   "source": [
    "Joe.check(Jeff, 100) # Lanza un ValueError\n",
    "\n"
   ]
  },
  {
   "cell_type": "code",
   "execution_count": 37,
   "id": "8ec6d932-91d9-4242-9bae-cefcae5ce655",
   "metadata": {},
   "outputs": [
    {
     "data": {
      "text/plain": [
       "'Jeff ha agregado 20.0 por lo cual tiene en total 118.0.'"
      ]
     },
     "execution_count": 37,
     "metadata": {},
     "output_type": "execute_result"
    }
   ],
   "source": [
    "Jeff.add_cash(20.00) # Devuelve 'Jeff tiene 118.'"
   ]
  },
  {
   "cell_type": "code",
   "execution_count": null,
   "id": "67dfbf4f-7739-4c16-885d-87d2367a71e3",
   "metadata": {},
   "outputs": [],
   "source": []
  }
 ],
 "metadata": {
  "kernelspec": {
   "display_name": "Python 3 (ipykernel)",
   "language": "python",
   "name": "python3"
  },
  "language_info": {
   "codemirror_mode": {
    "name": "ipython",
    "version": 3
   },
   "file_extension": ".py",
   "mimetype": "text/x-python",
   "name": "python",
   "nbconvert_exporter": "python",
   "pygments_lexer": "ipython3",
   "version": "3.12.4"
  }
 },
 "nbformat": 4,
 "nbformat_minor": 5
}

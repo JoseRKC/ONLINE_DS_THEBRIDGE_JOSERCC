{
 "cells": [
  {
   "cell_type": "code",
   "execution_count": 1,
   "id": "c061c25b-5c47-4846-838f-db4981b73db3",
   "metadata": {},
   "outputs": [
    {
     "data": {
      "text/plain": [
       "{('ToyStory', 'Jumanji'): 0.42264973081037416,\n",
       " ('ToyStory', 'Mortal Kombat'): 0.5917517095361371,\n",
       " ('ToyStory', 'Pocahontas'): 0.5917517095361371,\n",
       " ('Jumanji', 'Mortal Kombat'): 0.29289321881345254,\n",
       " ('Jumanji', 'Pocahontas'): 1.0,\n",
       " ('Mortal Kombat', 'Pocahontas'): 1.0}"
      ]
     },
     "execution_count": 1,
     "metadata": {},
     "output_type": "execute_result"
    }
   ],
   "source": [
    "import numpy as np\n",
    "import numpy as np\n",
    "\n",
    "# Diccionario de películas\n",
    "dic_peliculas = {\n",
    "    \"ToyStory\": [False, True, True, True, False],\n",
    "    \"Jumanji\": [False, True, False, False, False],\n",
    "    \"Mortal Kombat\": [True, True, False, False, False],\n",
    "    \"Pocahontas\": [False, False, True, False, True]\n",
    "}\n",
    "\n",
    "# Convertir diccionario en una matriz y transformar booleanos a enteros\n",
    "valores_peliculas = np.array(list(dic_peliculas.values()), dtype=int)\n",
    "nombres_peliculas = list(dic_peliculas.keys())\n",
    "\n",
    "# Función para calcular similitud por coseno\n",
    "def similitud_coseno(v1, v2):\n",
    "    dot_product = np.dot(v1, v2)\n",
    "    norm_product = np.linalg.norm(v1) * np.linalg.norm(v2)\n",
    "    return dot_product / norm_product\n",
    "\n",
    "# Calcular la similitud y la diferencia (1 - similitud) entre cada par de películas\n",
    "resultados_diferencia = {}\n",
    "for i in range(len(nombres_peliculas)):\n",
    "    for j in range(i + 1, len(nombres_peliculas)):\n",
    "        similitud = similitud_coseno(valores_peliculas[i], valores_peliculas[j])\n",
    "        diferencia = 1 - similitud  # Diferencia respecto a la similitud máxima (1)\n",
    "        resultados_diferencia[(nombres_peliculas[i], nombres_peliculas[j])] = diferencia\n",
    "\n",
    "# Mostrar resultados\n",
    "resultados_diferencia\n"
   ]
  },
  {
   "cell_type": "code",
   "execution_count": null,
   "id": "36738dcf-9a35-485a-943f-864983de7b4f",
   "metadata": {},
   "outputs": [],
   "source": []
  }
 ],
 "metadata": {
  "kernelspec": {
   "display_name": "Python 3 (ipykernel)",
   "language": "python",
   "name": "python3"
  },
  "language_info": {
   "codemirror_mode": {
    "name": "ipython",
    "version": 3
   },
   "file_extension": ".py",
   "mimetype": "text/x-python",
   "name": "python",
   "nbconvert_exporter": "python",
   "pygments_lexer": "ipython3",
   "version": "3.12.4"
  }
 },
 "nbformat": 4,
 "nbformat_minor": 5
}
